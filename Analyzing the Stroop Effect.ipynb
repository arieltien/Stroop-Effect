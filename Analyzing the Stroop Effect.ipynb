{
 "cells": [
  {
   "cell_type": "markdown",
   "metadata": {},
   "source": [
    "## Analyzing the Stroop Effect\n",
    "\n",
    "(1) What is the independent variable? What is the dependent variable?"
   ]
  },
  {
   "cell_type": "markdown",
   "metadata": {},
   "source": [
    "Dependent variable is what is being studied and measured, while independent variable is a variable that stands alone and isn't changed by the other variables you are trying to measure. Dependent variable is a result of the changes to the independent variable(s). \n",
    "\n",
    "In this case, the independent variable is the condition of Stroop task: Congruent vs. Incongruent, and the dependent variable is the time for participants to name the colors of ink. The value of dependent variable (in seconds) is stored in the dataset below."
   ]
  },
  {
   "cell_type": "markdown",
   "metadata": {},
   "source": [
    "(2) What is an appropriate set of hypotheses for this task? Specify your null and alternative hypotheses, and clearly define any notation used. Justify your choices."
   ]
  },
  {
   "cell_type": "markdown",
   "metadata": {},
   "source": [
    "Null Hypothesis: $$H_0: \\mu_{c} - \\mu_{i} = 0$$\n",
    "\n",
    "\n",
    "Alternative Hypothesis: $$H_1: \\mu_{c} - \\mu_{i} \\neq 0$$\n",
    "\n",
    "\n",
    "**$\\mu_{c}$ and $\\mu_{i}$ are the population mean values for congruent and incongruent result, respectivley.**"
   ]
  },
  {
   "cell_type": "markdown",
   "metadata": {},
   "source": [
    "(3) Report some descriptive statistics regarding this dataset. Include at least one measure of central tendency and at least one measure of variability. The name of the data file is 'stroopdata.csv'."
   ]
  },
  {
   "cell_type": "code",
   "execution_count": 1,
   "metadata": {},
   "outputs": [],
   "source": [
    "import numpy as np\n",
    "import pandas as pd\n",
    "import statsmodels.api as sms\n",
    "import matplotlib.pyplot as plt\n",
    "%matplotlib inline"
   ]
  },
  {
   "cell_type": "code",
   "execution_count": 2,
   "metadata": {},
   "outputs": [],
   "source": [
    "df = pd.read_csv('stroopdata.csv')"
   ]
  },
  {
   "cell_type": "code",
   "execution_count": 3,
   "metadata": {},
   "outputs": [
    {
     "data": {
      "text/html": [
       "<div>\n",
       "<style scoped>\n",
       "    .dataframe tbody tr th:only-of-type {\n",
       "        vertical-align: middle;\n",
       "    }\n",
       "\n",
       "    .dataframe tbody tr th {\n",
       "        vertical-align: top;\n",
       "    }\n",
       "\n",
       "    .dataframe thead th {\n",
       "        text-align: right;\n",
       "    }\n",
       "</style>\n",
       "<table border=\"1\" class=\"dataframe\">\n",
       "  <thead>\n",
       "    <tr style=\"text-align: right;\">\n",
       "      <th></th>\n",
       "      <th>Congruent</th>\n",
       "      <th>Incongruent</th>\n",
       "    </tr>\n",
       "  </thead>\n",
       "  <tbody>\n",
       "    <tr>\n",
       "      <th>0</th>\n",
       "      <td>12.079</td>\n",
       "      <td>19.278</td>\n",
       "    </tr>\n",
       "    <tr>\n",
       "      <th>1</th>\n",
       "      <td>16.791</td>\n",
       "      <td>18.741</td>\n",
       "    </tr>\n",
       "    <tr>\n",
       "      <th>2</th>\n",
       "      <td>9.564</td>\n",
       "      <td>21.214</td>\n",
       "    </tr>\n",
       "    <tr>\n",
       "      <th>3</th>\n",
       "      <td>8.630</td>\n",
       "      <td>15.687</td>\n",
       "    </tr>\n",
       "    <tr>\n",
       "      <th>4</th>\n",
       "      <td>14.669</td>\n",
       "      <td>22.803</td>\n",
       "    </tr>\n",
       "  </tbody>\n",
       "</table>\n",
       "</div>"
      ],
      "text/plain": [
       "   Congruent  Incongruent\n",
       "0     12.079       19.278\n",
       "1     16.791       18.741\n",
       "2      9.564       21.214\n",
       "3      8.630       15.687\n",
       "4     14.669       22.803"
      ]
     },
     "execution_count": 3,
     "metadata": {},
     "output_type": "execute_result"
    }
   ],
   "source": [
    "df.head()"
   ]
  },
  {
   "cell_type": "code",
   "execution_count": 4,
   "metadata": {},
   "outputs": [
    {
     "data": {
      "text/html": [
       "<div>\n",
       "<style scoped>\n",
       "    .dataframe tbody tr th:only-of-type {\n",
       "        vertical-align: middle;\n",
       "    }\n",
       "\n",
       "    .dataframe tbody tr th {\n",
       "        vertical-align: top;\n",
       "    }\n",
       "\n",
       "    .dataframe thead th {\n",
       "        text-align: right;\n",
       "    }\n",
       "</style>\n",
       "<table border=\"1\" class=\"dataframe\">\n",
       "  <thead>\n",
       "    <tr style=\"text-align: right;\">\n",
       "      <th></th>\n",
       "      <th>Congruent</th>\n",
       "      <th>Incongruent</th>\n",
       "    </tr>\n",
       "  </thead>\n",
       "  <tbody>\n",
       "    <tr>\n",
       "      <th>count</th>\n",
       "      <td>24.000000</td>\n",
       "      <td>24.000000</td>\n",
       "    </tr>\n",
       "    <tr>\n",
       "      <th>mean</th>\n",
       "      <td>14.051125</td>\n",
       "      <td>22.015917</td>\n",
       "    </tr>\n",
       "    <tr>\n",
       "      <th>std</th>\n",
       "      <td>3.559358</td>\n",
       "      <td>4.797057</td>\n",
       "    </tr>\n",
       "    <tr>\n",
       "      <th>min</th>\n",
       "      <td>8.630000</td>\n",
       "      <td>15.687000</td>\n",
       "    </tr>\n",
       "    <tr>\n",
       "      <th>25%</th>\n",
       "      <td>11.895250</td>\n",
       "      <td>18.716750</td>\n",
       "    </tr>\n",
       "    <tr>\n",
       "      <th>50%</th>\n",
       "      <td>14.356500</td>\n",
       "      <td>21.017500</td>\n",
       "    </tr>\n",
       "    <tr>\n",
       "      <th>75%</th>\n",
       "      <td>16.200750</td>\n",
       "      <td>24.051500</td>\n",
       "    </tr>\n",
       "    <tr>\n",
       "      <th>max</th>\n",
       "      <td>22.328000</td>\n",
       "      <td>35.255000</td>\n",
       "    </tr>\n",
       "  </tbody>\n",
       "</table>\n",
       "</div>"
      ],
      "text/plain": [
       "       Congruent  Incongruent\n",
       "count  24.000000    24.000000\n",
       "mean   14.051125    22.015917\n",
       "std     3.559358     4.797057\n",
       "min     8.630000    15.687000\n",
       "25%    11.895250    18.716750\n",
       "50%    14.356500    21.017500\n",
       "75%    16.200750    24.051500\n",
       "max    22.328000    35.255000"
      ]
     },
     "execution_count": 4,
     "metadata": {},
     "output_type": "execute_result"
    }
   ],
   "source": [
    "# the describe function gives us all the descriptive statistics we are looking for in this dataset\n",
    "df.describe()"
   ]
  },
  {
   "cell_type": "code",
   "execution_count": 5,
   "metadata": {},
   "outputs": [
    {
     "name": "stdout",
     "output_type": "stream",
     "text": [
      "The mean of Congruent is 14.05.\n",
      "The mean of Incongruent is 22.02.\n"
     ]
    }
   ],
   "source": [
    "mean_c = df['Congruent'].mean()\n",
    "mean_i = df['Incongruent'].mean()\n",
    "\n",
    "print(\"The mean of Congruent is %0.2f.\" % mean_c) \n",
    "print(\"The mean of Incongruent is %0.2f.\" % mean_i) "
   ]
  },
  {
   "cell_type": "code",
   "execution_count": 6,
   "metadata": {},
   "outputs": [
    {
     "name": "stdout",
     "output_type": "stream",
     "text": [
      "The Standard Deviation of Congruent is 3.56.\n",
      "The Standard Deviation of Incongruent is 4.80.\n"
     ]
    }
   ],
   "source": [
    "std_c = df['Congruent'].std()\n",
    "std_i = df['Incongruent'].std()\n",
    "\n",
    "print(\"The Standard Deviation of Congruent is %0.2f.\" % std_c) \n",
    "print(\"The Standard Deviation of Incongruent is %0.2f.\" % std_i) "
   ]
  },
  {
   "cell_type": "markdown",
   "metadata": {},
   "source": [
    "(4) Provide one or two visualizations that show the distribution of the sample data. Write one or two sentences noting what you observe about the plot or plots."
   ]
  },
  {
   "cell_type": "code",
   "execution_count": 8,
   "metadata": {},
   "outputs": [
    {
     "data": {
      "image/png": "[encoded data removed]",
      "text/plain": [
       "<Figure size 432x288 with 1 Axes>"
      ]
     },
     "metadata": {},
     "output_type": "display_data"
    }
   ],
   "source": [
    "plt.hist(df['Congruent'])\n",
    "\n",
    "plt.xlabel('Time (seconds)')\n",
    "plt.ylabel('Number of Participants')\n",
    "plt.title('Time taken to complete Congruent Test');"
   ]
  },
  {
   "cell_type": "markdown",
   "metadata": {},
   "source": [
    "Note: Time taken to complete Congruent Test ranges from 8 to 22 seconds. The mode is between 14 secs and 16 secs. "
   ]
  },
  {
   "cell_type": "code",
   "execution_count": 9,
   "metadata": {},
   "outputs": [
    {
     "data": {
      "image/png": "[encoded data removed]",
      "text/plain": [
       "<Figure size 432x288 with 1 Axes>"
      ]
     },
     "metadata": {},
     "output_type": "display_data"
    }
   ],
   "source": [
    "plt.hist(df['Incongruent'])\n",
    "\n",
    "plt.xlabel('Time (seconds)')\n",
    "plt.ylabel('Number of Participants')\n",
    "plt.title('Time taken to complete Incongruent Test');"
   ]
  },
  {
   "cell_type": "markdown",
   "metadata": {},
   "source": [
    "Note: Time taken to complete Incongruent Test ranges from 15 seconds to 35 seconds. However, most people fell between 15 seconds and 27 seconds."
   ]
  },
  {
   "cell_type": "code",
   "execution_count": 10,
   "metadata": {},
   "outputs": [
    {
     "data": {
      "text/plain": [
       "(array([4., 4., 6., 3., 4., 1., 0., 0., 0., 2.]),\n",
       " array([15.687 , 17.6438, 19.6006, 21.5574, 23.5142, 25.471 , 27.4278,\n",
       "        29.3846, 31.3414, 33.2982, 35.255 ]),\n",
       " <a list of 10 Patch objects>)"
      ]
     },
     "execution_count": 10,
     "metadata": {},
     "output_type": "execute_result"
    },
    {
     "data": {
      "image/png": "[encoded data removed]",
      "text/plain": [
       "<Figure size 432x288 with 1 Axes>"
      ]
     },
     "metadata": {},
     "output_type": "display_data"
    }
   ],
   "source": [
    "plt.hist(df['Congruent'], alpha=.5);\n",
    "plt.hist(df['Incongruent'], alpha=.5)"
   ]
  },
  {
   "cell_type": "markdown",
   "metadata": {},
   "source": [
    "Note: When we put two histograms together we can clearly see the distinct difference between two tests. Apparently, time spent less to answer the Congruent Test compared to time spent on Incongruent Test."
   ]
  },
  {
   "cell_type": "code",
   "execution_count": 11,
   "metadata": {},
   "outputs": [],
   "source": [
    "# bootstrap sampling\n",
    "\n",
    "mean_c, mean_i, diffs = [], [], []\n",
    "\n",
    "for _ in range(10000):\n",
    "    bootsamp = df.sample(24, replace = True)\n",
    "    mean_con = bootsamp['Congruent'].mean()\n",
    "    mean_incon = bootsamp['Incongruent'].mean()\n",
    "    # append the info \n",
    "    mean_c.append(mean_con)\n",
    "    mean_i.append(mean_incon)\n",
    "    diffs.append(mean_con - mean_incon) "
   ]
  },
  {
   "cell_type": "code",
   "execution_count": 12,
   "metadata": {},
   "outputs": [
    {
     "data": {
      "image/png": "[encoded data removed]",
      "text/plain": [
       "<Figure size 432x288 with 1 Axes>"
      ]
     },
     "metadata": {},
     "output_type": "display_data"
    }
   ],
   "source": [
    "plt.hist(mean_c, alpha = 0.5);\n",
    "plt.hist(mean_i, alpha = 0.5); # They look pretty normal to me!"
   ]
  },
  {
   "cell_type": "code",
   "execution_count": 13,
   "metadata": {},
   "outputs": [
    {
     "data": {
      "image/png": "[encoded data removed]",
      "text/plain": [
       "<Figure size 432x288 with 1 Axes>"
      ]
     },
     "metadata": {},
     "output_type": "display_data"
    }
   ],
   "source": [
    "plt.hist(diffs, alpha = 0.5);"
   ]
  },
  {
   "cell_type": "markdown",
   "metadata": {},
   "source": [
    "(5)  Now, perform the statistical test and report your results. What is your confidence level or Type I error associated with your test? What is your conclusion regarding the hypotheses you set up? Did the results match up with your expectations? "
   ]
  },
  {
   "cell_type": "markdown",
   "metadata": {},
   "source": [
    "Since we don't have any information about the population, here I perform two tailed t-test for the given dataset. The t-test compares the mean of two test results to see if there are statistically significant differences between the means. \n",
    "\n",
    "- 95% confidance level\n",
    "- Sample Size: n = 24\n",
    "- Degree of freedom: df = n - 1 = 23"
   ]
  },
  {
   "cell_type": "code",
   "execution_count": 16,
   "metadata": {},
   "outputs": [],
   "source": [
    "import math\n",
    "from scipy.stats import t as pt"
   ]
  },
  {
   "cell_type": "code",
   "execution_count": 17,
   "metadata": {},
   "outputs": [
    {
     "name": "stdout",
     "output_type": "stream",
     "text": [
      "t-critical value for two tailed test at 95% confidance level is: 2.0687\n"
     ]
    }
   ],
   "source": [
    "# Perform the statistical test here\n",
    "t_critical = 2.0687\n",
    "\n",
    "print(\"t-critical value for two tailed test at 95% confidance level is:\",t_critical)"
   ]
  },
  {
   "cell_type": "code",
   "execution_count": 18,
   "metadata": {},
   "outputs": [],
   "source": [
    "# Build a function for t-test\n",
    "\n",
    "def t_test(a, b, alpha, t_critical):\n",
    "    mean_a = a.mean()\n",
    "    mean_b = b.mean()\n",
    "    \n",
    "    diffs_mean = mean_a - mean_b\n",
    "    diffs_results = a - b\n",
    "\n",
    "    sample_size = len(a)\n",
    "    df = sample_size - 1\n",
    "\n",
    "    std = diffs_results.std()\n",
    "    \n",
    "    # Let's perform t-test!\n",
    "\n",
    "    t_stat = diffs_mean / (std / math.sqrt(sample_size))\n",
    "    p_value = pt.pdf(t_stat, df)\n",
    "        \n",
    "    ci_lower = diffs_mean - t_critical * (std / math.sqrt(sample_size))\n",
    "    ci_upper = diffs_mean + t_critical * (std / math.sqrt(sample_size))\n",
    "\n",
    "    print(\"REJECT the null hypothesis? \" + str(p_value < alpha))\n",
    "    print(\"The t statistic is : \" + str(abs(t_stat)))\n",
    "    print(\"The p value is : \" + str(p_value))\n",
    "                                                            \n",
    "    print(\"The confidence interval for a t-critical value of \" + str(t_critical) + \" is: \" \\\n",
    "           + \"(\" + str(ci_lower) + \", \" + str(ci_upper) + \")\")"
   ]
  },
  {
   "cell_type": "code",
   "execution_count": 19,
   "metadata": {},
   "outputs": [
    {
     "name": "stdout",
     "output_type": "stream",
     "text": [
      "REJECT the null hypothesis? True\n",
      "The t statistic is : 8.020706944109955\n",
      "The p value is : 4.393995815913927e-08\n",
      "The confidence interval for a t-critical value of 2.0687 is: (-10.019070003432619, -5.910513329900711)\n"
     ]
    }
   ],
   "source": [
    "# origianl sample\n",
    "t_test(df['Congruent'], df['Incongruent'], 0.025, t_critical)"
   ]
  },
  {
   "cell_type": "code",
   "execution_count": 20,
   "metadata": {},
   "outputs": [
    {
     "name": "stdout",
     "output_type": "stream",
     "text": [
      "REJECT the null hypothesis? True\n",
      "The t statistic is : 819.0341951938633\n",
      "The p value is : 0.0\n",
      "The confidence interval for a t-critical value of 2.0687 is: (-7.982297334005169, -7.942075874328163)\n"
     ]
    },
    {
     "name": "stderr",
     "output_type": "stream",
     "text": [
      "/anaconda2/envs/py36/lib/python3.6/site-packages/scipy/stats/_continuous_distns.py:4683: RuntimeWarning: overflow encountered in power\n",
      "  Px /= np.sqrt(r*np.pi)*(1+(x**2)/r)**((r+1)/2)\n"
     ]
    }
   ],
   "source": [
    "# bootstrap sampling\n",
    "\n",
    "mean_c = np.asarray(mean_c)\n",
    "mean_i = np.asarray(mean_i)\n",
    "\n",
    "t_test(mean_c, mean_i, 0.025, t_critical)"
   ]
  },
  {
   "cell_type": "markdown",
   "metadata": {},
   "source": [
    "Note: \n",
    "\n",
    "The two tailed t-test was performed with an alpha level of 0.025. As a result of the confidence level and 23 degrees of freedom, t-critcal value is 2.0687. The t-statistic is -8.02070694411 and, since p_value < alpha, we reject the null hypothesis. This means that the Congruent result and Incongruent result are not the same. The 95% confidence interval is (-10.0193, -5.9102).\n",
    "\n",
    "These results match my expectations. My expectation derives from the data visulization above. Having performed the statistical analysis, it matches my expectation that the Incongruent task is more difficult than the Congruent task and it takes longer."
   ]
  },
  {
   "cell_type": "code",
   "execution_count": null,
   "metadata": {},
   "outputs": [],
   "source": []
  }
 ],
 "metadata": {
  "kernelspec": {
   "display_name": "Python [conda env:py36]",
   "language": "python",
   "name": "conda-env-py36-py"
  },
  "language_info": {
   "codemirror_mode": {
    "name": "ipython",
    "version": 3
   },
   "file_extension": ".py",
   "mimetype": "text/x-python",
   "name": "python",
   "nbconvert_exporter": "python",
   "pygments_lexer": "ipython3",
   "version": "3.6.5"
  }
 },
 "nbformat": 4,
 "nbformat_minor": 2
}
